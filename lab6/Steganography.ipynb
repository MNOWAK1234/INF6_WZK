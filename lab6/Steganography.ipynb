{
 "cells": [
  {
   "cell_type": "markdown",
   "metadata": {},
   "source": [
    "## Steganography\n",
    "\n",
    "**a) Least Significant Bit Algorithm**"
   ]
  },
  {
   "cell_type": "code",
   "execution_count": 45,
   "metadata": {},
   "outputs": [
    {
     "name": "stdout",
     "output_type": "stream",
     "text": [
      "Message embedded successfully.\n"
     ]
    }
   ],
   "source": [
    "from PIL import Image\n",
    "\n",
    "def message_to_binary(message):\n",
    "    binary_message = ''.join(format(ord(char), '08b') for char in message)\n",
    "    return binary_message\n",
    "\n",
    "def embed_message(image_path, message, embedded_path):\n",
    "    img = Image.open(image_path)\n",
    "    binary_message = message_to_binary(message)\n",
    "    binary_message += '1111111111111110'  # Add a delimiter to mark the end of the message\n",
    "\n",
    "    data_index = 0\n",
    "\n",
    "    width, height = img.size\n",
    "\n",
    "    # Loop through each pixel in the image\n",
    "    for y in range(height):\n",
    "        for x in range(width):\n",
    "            # Get the pixel value\n",
    "            pixel = img.getpixel((x, y))\n",
    "            # Convert pixel values to binary\n",
    "            binary_pixel = [format(component, '08b') for component in pixel]\n",
    "            # Embed message into the least significant bit of each color channel\n",
    "            for i in range(3):  # Loop through RGB channels\n",
    "                binary_pixel[i] = binary_pixel[i][:-1] + binary_message[data_index]\n",
    "                data_index += 1\n",
    "                if data_index >= len(binary_message):\n",
    "                    break\n",
    "            \n",
    "            # Convert back to integer pixel values\n",
    "            pixel = tuple(int(channel, 2) for channel in binary_pixel)\n",
    "            img.putpixel((x, y), pixel)\n",
    "\n",
    "            if data_index >= len(binary_message):\n",
    "                break\n",
    "        if data_index >= len(binary_message):\n",
    "            break\n",
    "\n",
    "    img.save(embedded_path)\n",
    "    print(\"Message embedded successfully.\")\n",
    "\n",
    "image_path = \"original_image.png\"\n",
    "embedded_path = \"embedded_image.png\"\n",
    "message = \"Cats are incredible creatures. They bring joy, comfort, and companionship to our lives. Their playful antics and independent spirit make them beloved members of countless households worldwide. Whether they're curled up in a cozy spot, chasing after toys, or gracefully exploring their surroundings, cats never fail to captivate us with their charm and grace. Their soft purrs and gentle nuzzles have a soothing effect, melting away stress and worries. From their adorable whiskers to their graceful movements, every aspect of a cat is a testament to their unique beauty and personality. In a world full of chaos, cats provide a sense of calm and tranquility that is truly unmatched. They remind us to appreciate the simple joys in life and to cherish the moments spent in their company. So here's to our feline friends, who enrich our lives in more ways than we can count. Meow!\"\n",
    "embed_message(image_path, message, embedded_path)"
   ]
  },
  {
   "cell_type": "markdown",
   "metadata": {},
   "source": [
    "Original Image:\n",
    "\n",
    "<img src=\"original_image.png\" alt=\"Original Image\" width=\"400\"/>\n",
    "\n",
    "Embedded Image:\n",
    "\n",
    "<img src=\"embedded_image.png\" alt=\"Embedded Image\" width=\"400\"/>"
   ]
  },
  {
   "cell_type": "code",
   "execution_count": 48,
   "metadata": {},
   "outputs": [
    {
     "name": "stdout",
     "output_type": "stream",
     "text": [
      "Extracted message: Cats are incredible creatures. They bring joy, comfort, and companionship to our lives. Their playful antics and independent spirit make them beloved members of countless households worldwide. Whether they're curled up in a cozy spot, chasing after toys, or gracefully exploring their surroundings, cats never fail to captivate us with their charm and grace. Their soft purrs and gentle nuzzles have a soothing effect, melting away stress and worries. From their adorable whiskers to their graceful movements, every aspect of a cat is a testament to their unique beauty and personality. In a world full of chaos, cats provide a sense of calm and tranquility that is truly unmatched. They remind us to appreciate the simple joys in life and to cherish the moments spent in their company. So here's to our feline friends, who enrich our lives in more ways than we can count. Meow!\n"
     ]
    }
   ],
   "source": [
    "def extract_message(image_path):\n",
    "    img = Image.open(image_path)\n",
    "    extracted_binary = ''\n",
    "    width, height = img.size\n",
    "\n",
    "    finish = False\n",
    "\n",
    "    for y in range(height):\n",
    "        if(finish):\n",
    "            break\n",
    "        for x in range(width):\n",
    "            if(finish):\n",
    "                break\n",
    "            # Get the pixel value\n",
    "            pixel = img.getpixel((x, y))\n",
    "            # Convert pixel values to binary\n",
    "            binary_pixel = [format(component, '08b') for component in pixel]\n",
    "\n",
    "            for i in range(3):  # Loop through RGB channels\n",
    "                extracted_binary += binary_pixel[i][-1]\n",
    "                byte = extracted_binary[i:i+8]\n",
    "                if byte == '11111111':  # Check for delimiter marking end of message\n",
    "                    finish = True\n",
    "                    break\n",
    "\n",
    "    # Split binary string into 8-bit chunks to convert back to characters\n",
    "    extracted_message = ''\n",
    "    for i in range(0, len(extracted_binary), 8):\n",
    "        byte = extracted_binary[i:i+8]\n",
    "        if byte == '11111111':  # Check for delimiter marking end of message\n",
    "            break\n",
    "        extracted_message += chr(int(byte, 2))\n",
    "\n",
    "    print(\"Extracted message:\", extracted_message)\n",
    "\n",
    "# Extract the message from the embedded image\n",
    "extract_message(embedded_path)"
   ]
  },
  {
   "cell_type": "markdown",
   "metadata": {},
   "source": [
    "### Questions:\n",
    "1. Is this method of hiding information in an image resistant to attacks and attempts to destroy the embedded message?\n",
    "2. Propose attacks on the embedded message.\n",
    "3. What is the size of the message that we can hide in an image/graphic file?\n",
    "\n",
    "### Answers:\n",
    "1. The method of hiding information in an image using least significant bit (LSB) steganography is not inherently resistant to attacks and attempts to destroy the embedded message. Since only the least significant bits of the image pixels are modified, the embedded message can potentially be detected and altered through various means, such as statistical analysis, visual inspection, or targeted attacks aimed at manipulating the LSBs. Moreover, common image processing techniques like compression or resizing can inadvertently alter or remove the embedded message.\n",
    "   \n",
    "2. Some potential attacks on the embedded message include:\n",
    "   - Statistical analysis: Analyzing the frequency distribution of pixel values or LSB changes in the image to detect anomalies indicative of hidden data.\n",
    "   - Compression: Applying lossy compression algorithms (e.g., JPEG) to the image may introduce artifacts that alter or remove the embedded message.\n",
    "   - Watermark removal: Attempting to remove watermarks or hidden messages using specialized software or algorithms designed for image manipulation.\n",
    "   \n",
    "3. The size of the message that can be hidden in an image or graphic file depends on factors such as the resolution of the image, the bit depth of the color channels, and the amount of available LSBs per pixel. In general, the capacity for hiding data using LSB steganography is limited by the number of pixels in the image and the number of LSBs that can be modified without significantly altering the image's visual quality. As a rough estimate, for a typical high-resolution image with 24-bit color depth (8 bits per channel), the message size that can be hidden may range from a few kilobytes to several megabytes, depending on the image's dimensions and characteristics.\n"
   ]
  },
  {
   "cell_type": "markdown",
   "metadata": {},
   "source": [
    "**b) Patchwork Algorithm**"
   ]
  },
  {
   "cell_type": "code",
   "execution_count": 67,
   "metadata": {},
   "outputs": [
    {
     "name": "stdout",
     "output_type": "stream",
     "text": [
      "S_prime: [1651 1398 1043]\n"
     ]
    }
   ],
   "source": [
    "import numpy as np\n",
    "from PIL import Image\n",
    "\n",
    "def change_brightness(pixel, delta):\n",
    "    # Extract RGB components\n",
    "    r, g, b = pixel\n",
    "    # Change brightness by delta\n",
    "    r = max(0, min(255, r + delta))\n",
    "    g = max(0, min(255, g + delta))\n",
    "    b = max(0, min(255, b + delta))\n",
    "    return (r, g, b)\n",
    "\n",
    "def embed_watermark(image_path, watermarked_path, secret_key, num_iterations, delta):\n",
    "    # Open the image\n",
    "    img = Image.open(image_path)\n",
    "    width, height = img.size\n",
    "\n",
    "    # Convert the image to a NumPy array\n",
    "    img_array = np.array(img)\n",
    "\n",
    "    # Set the random seed based on the secret key\n",
    "    np.random.seed(secret_key)\n",
    "\n",
    "    S_prime = (2*delta*num_iterations, 2*delta*num_iterations, 2*delta*num_iterations)\n",
    "    \n",
    "    # Perform embedding for each iteration\n",
    "    for i in range(num_iterations):\n",
    "        # Generate two random areas A and B\n",
    "        x_a, y_a = np.random.randint(0, width), np.random.randint(0, height)\n",
    "        x_b, y_b = np.random.randint(0, width), np.random.randint(0, height)\n",
    "\n",
    "        S_prime += img_array[y_a, x_a] - img_array[y_b, x_b]\n",
    "\n",
    "        # Modify the pixel intensities\n",
    "        img_array[y_a, x_a] = np.clip(img_array[y_a, x_a] + delta, 0, 255)\n",
    "        img_array[y_b, x_b] = np.clip(img_array[y_b, x_b] - delta, 0, 255)\n",
    "\n",
    "    # Convert the modified array back to an image\n",
    "    watermarked_img = Image.fromarray(img_array)\n",
    "    watermarked_img.save(watermarked_path)\n",
    "\n",
    "    return S_prime\n",
    "\n",
    "# Example usage\n",
    "image_path = \"original_image.png\"\n",
    "watermarked_path = \"watermark_image.png\"\n",
    "secret_key = 12345\n",
    "num_iterations = 10\n",
    "delta = 1\n",
    "\n",
    "S_prime = embed_watermark(image_path, watermarked_path, secret_key, num_iterations, delta)\n",
    "print(\"S_prime:\", S_prime)\n"
   ]
  },
  {
   "cell_type": "code",
   "execution_count": 70,
   "metadata": {},
   "outputs": [
    {
     "name": "stdout",
     "output_type": "stream",
     "text": [
      "S_prime: [6664 5652 4232]\n",
      "S_n: [6664 5652 4232]\n",
      "Watermark detected.\n"
     ]
    }
   ],
   "source": [
    "import numpy as np\n",
    "from PIL import Image\n",
    "\n",
    "def detect_watermark(watermarked_path, secret_key, num_iterations, delta, S_prime):\n",
    "    # Open the image\n",
    "    img = Image.open(watermarked_path)\n",
    "    width, height = img.size\n",
    "\n",
    "    # Convert the image to a NumPy array\n",
    "    img_array = np.array(img)\n",
    "\n",
    "    # Set the random seed based on the secret key\n",
    "    np.random.seed(secret_key)\n",
    "\n",
    "    S_n = S_prime\n",
    "    \n",
    "    # Undo embedding for each iteration\n",
    "    for i in range(num_iterations):\n",
    "        # Generate two random areas A and B\n",
    "        x_a, y_a = np.random.randint(0, width), np.random.randint(0, height)\n",
    "        x_b, y_b = np.random.randint(0, width), np.random.randint(0, height)\n",
    "\n",
    "        # Modify the pixel intensities\n",
    "        img_array[y_a, x_a] = np.clip(img_array[y_a, x_a] + delta, 0, 255)\n",
    "        img_array[y_b, x_b] = np.clip(img_array[y_b, x_b] - delta, 0, 255)\n",
    "\n",
    "        S_n += img_array[y_a, x_a] - img_array[y_b, x_b]\n",
    "    \n",
    "    print(\"S_prime:\", S_prime)\n",
    "    print(\"S_n:\", S_n)\n",
    "\n",
    "    if(np.array_equal(np.array(S_n), np.array(S_prime))):\n",
    "        print(\"Watermark detected.\")\n",
    "    else:\n",
    "        print(\"No watermark detected.\")\n",
    "\n",
    "detect_watermark(watermarked_path, secret_key, num_iterations, delta, S_prime)\n"
   ]
  },
  {
   "cell_type": "markdown",
   "metadata": {},
   "source": [
    "## Effectiveness and resistance to attacks of the patchwork algorithm:\n",
    "\n",
    "The security of the watermark relies heavily on the randomness and secrecy of the secret key used for embedding, making it vulnerable to attacks if the key is compromised."
   ]
  }
 ],
 "metadata": {
  "kernelspec": {
   "display_name": "Python 3",
   "language": "python",
   "name": "python3"
  },
  "language_info": {
   "codemirror_mode": {
    "name": "ipython",
    "version": 3
   },
   "file_extension": ".py",
   "mimetype": "text/x-python",
   "name": "python",
   "nbconvert_exporter": "python",
   "pygments_lexer": "ipython3",
   "version": "3.12.3"
  }
 },
 "nbformat": 4,
 "nbformat_minor": 2
}
